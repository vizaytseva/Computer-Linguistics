{
 "cells": [
  {
   "cell_type": "code",
   "execution_count": 9,
   "id": "983b2a44",
   "metadata": {},
   "outputs": [
    {
     "data": {
      "text/plain": [
       "['data science is an interdisciplinary field that uses scientific methods, processes, algorithms and systems to extract knowledge and insights from noisy, structured and unstructured data.',\n",
       " 'it applies knowledge and actionable insights from data across a broad range of application domains.',\n",
       " 'data science is related to data mining, machine learning and big data.',\n",
       " 'the bolshoi theatre is a historic theatre in moscow, russia.',\n",
       " 'it was originally designed by architect joseph bové, which holds ballet and opera performances.',\n",
       " 'before the october revolution it was a part of the imperial theatres of the russian empire along with maly theatre in moscow and a few theatres in saint petersburg.',\n",
       " 'data science is a concept to unify statistics, data analysis, informatics, and their related methods in order to understand and analyze actual phenomena with data.',\n",
       " 'however, data science is different from computer science and information science.',\n",
       " 'the main building of the theatre, rebuilt and renovated several times during its history, is a landmark of moscow and russia.',\n",
       " 'on 28 october 2011, the bolshoi re-opened after an extensive six-year renovation.']"
      ]
     },
     "execution_count": 9,
     "metadata": {},
     "output_type": "execute_result"
    }
   ],
   "source": [
    "import pandas as pd\n",
    "import numpy as np\n",
    "from sklearn.feature_extraction.text import TfidfVectorizer\n",
    "import nltk\n",
    "from sklearn.cluster import KMeans\n",
    "\n",
    "text = '''Data science is an interdisciplinary field that uses scientific methods, processes, algorithms and systems to extract knowledge and insights from noisy, structured and unstructured data.\n",
    "It applies knowledge and actionable insights from data across a broad range of application domains.\n",
    "Data science is related to data mining, machine learning and big data.\n",
    "The Bolshoi Theatre is a historic theatre in Moscow, Russia.\n",
    "It was originally designed by architect Joseph Bové, which holds ballet and opera performances.\n",
    "Before the October Revolution it was a part of the Imperial Theatres of the Russian Empire along with Maly Theatre in Moscow and a few theatres in Saint Petersburg.\n",
    "Data science is a concept to unify statistics, data analysis, informatics, and their related methods in order to understand and analyze actual phenomena with data.\n",
    "However, data science is different from computer science and information science.\n",
    "The main building of the theatre, rebuilt and renovated several times during its history, is a landmark of Moscow and Russia.\n",
    "On 28 October 2011, the Bolshoi re-opened after an extensive six-year renovation.'''\n",
    "\n",
    "corpus = []\n",
    "for line in text.split('\\n'):\n",
    "    if line:\n",
    "        line = line.lower()\n",
    "        corpus.append(line)\n",
    "corpus\n"
   ]
  },
  {
   "cell_type": "code",
   "execution_count": 10,
   "id": "dccdcf4c",
   "metadata": {},
   "outputs": [],
   "source": [
    "tfidfVectorizer = TfidfVectorizer(use_idf = True, stop_words = 'english')\n",
    "vector_text = tfidfVectorizer.fit_transform(corpus)\n",
    "\n",
    "kmeans = KMeans(n_clusters = 2).fit(vector_text)"
   ]
  },
  {
   "cell_type": "code",
   "execution_count": 11,
   "id": "ef70e933",
   "metadata": {},
   "outputs": [
    {
     "data": {
      "text/plain": [
       "array([1, 0, 0])"
      ]
     },
     "execution_count": 11,
     "metadata": {},
     "output_type": "execute_result"
    }
   ],
   "source": [
    "predict = ['Many statisticians, including Nate Silver, have argued that data science is not a new field, but rather another name for statistics.',\n",
    "              'Urusov set up the theatre in collaboration with English tightrope walker Michael Maddox.',\n",
    "              'Until the mid-1990s, most foreign operas were sung in Russian, but Italian and other languages have been heard more frequently on the Bolshoi stage in recent years.']\n",
    "kmeans.predict(tfidfVectorizer.transform(predict))"
   ]
  }
 ],
 "metadata": {
  "kernelspec": {
   "display_name": "Python 3 (ipykernel)",
   "language": "python",
   "name": "python3"
  },
  "language_info": {
   "codemirror_mode": {
    "name": "ipython",
    "version": 3
   },
   "file_extension": ".py",
   "mimetype": "text/x-python",
   "name": "python",
   "nbconvert_exporter": "python",
   "pygments_lexer": "ipython3",
   "version": "3.9.12"
  }
 },
 "nbformat": 4,
 "nbformat_minor": 5
}
